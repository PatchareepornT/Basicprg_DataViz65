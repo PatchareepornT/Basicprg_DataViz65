{
  "nbformat": 4,
  "nbformat_minor": 0,
  "metadata": {
    "colab": {
      "name": "สำเนาของ Untitled3.ipynb",
      "provenance": [],
      "authorship_tag": "ABX9TyMMZsfR5HwGxVVnrjKOHSc5",
      "include_colab_link": true
    },
    "kernelspec": {
      "name": "python3",
      "display_name": "Python 3"
    },
    "language_info": {
      "name": "python"
    }
  },
  "cells": [
    {
      "cell_type": "markdown",
      "metadata": {
        "id": "view-in-github",
        "colab_type": "text"
      },
      "source": [
        "<a href=\"https://colab.research.google.com/github/PatchareepornT/Basicprg_DataViz65/blob/main/recap_4_5.ipynb\" target=\"_parent\"><img src=\"https://colab.research.google.com/assets/colab-badge.svg\" alt=\"Open In Colab\"/></a>"
      ]
    },
    {
      "cell_type": "markdown",
      "source": [
        "#Matrix Slicing"
      ],
      "metadata": {
        "id": "90v1JuDFFW6U"
      }
    },
    {
      "cell_type": "code",
      "source": [
        "import numpy"
      ],
      "metadata": {
        "id": "yRbFpxFXFdql"
      },
      "execution_count": null,
      "outputs": []
    },
    {
      "cell_type": "code",
      "source": [
        "list_a = [[2,4,5],[1,2,3],[9,8,7],[3,6,9]]\n",
        "mat_a = numpy.array(list_a)\n",
        "mat_a"
      ],
      "metadata": {
        "colab": {
          "base_uri": "https://localhost:8080/"
        },
        "id": "z5treFtKGvtL",
        "outputId": "07978577-8965-41ed-cf06-b6c2d2520ff6"
      },
      "execution_count": null,
      "outputs": [
        {
          "output_type": "execute_result",
          "data": {
            "text/plain": [
              "array([[2, 4, 5],\n",
              "       [1, 2, 3],\n",
              "       [9, 8, 7],\n",
              "       [3, 6, 9]])"
            ]
          },
          "metadata": {},
          "execution_count": 4
        }
      ]
    },
    {
      "cell_type": "code",
      "source": [
        "import numpy as np"
      ],
      "metadata": {
        "id": "BivfEefuHG2X"
      },
      "execution_count": null,
      "outputs": []
    },
    {
      "cell_type": "code",
      "source": [
        "list_b = [[-1,-1,2,4,5],[-2,-2,1,2,3],[-3,-3,9,8,7],[-4,-4,3,6,9]]\n",
        "mat_b = np.array(list_b)\n",
        "mat_b"
      ],
      "metadata": {
        "colab": {
          "base_uri": "https://localhost:8080/"
        },
        "id": "4IA_l5UqHN0F",
        "outputId": "eb6f2f93-03b9-45fd-f448-e1b3d419dca6"
      },
      "execution_count": null,
      "outputs": [
        {
          "output_type": "execute_result",
          "data": {
            "text/plain": [
              "array([[-1, -1,  2,  4,  5],\n",
              "       [-2, -2,  1,  2,  3],\n",
              "       [-3, -3,  9,  8,  7],\n",
              "       [-4, -4,  3,  6,  9]])"
            ]
          },
          "metadata": {},
          "execution_count": 6
        }
      ]
    },
    {
      "cell_type": "markdown",
      "source": [
        "#Quiz2"
      ],
      "metadata": {
        "id": "uvYtX-dCHR7q"
      }
    },
    {
      "cell_type": "markdown",
      "source": [
        "1. slice ค่าลบออกมาจาก mat_b\n",
        "2. slice [1,2,3] จาก mat_a\n",
        "3. slice [[1,3],[9,7],[3,9]] ออกมาจาก mat_b"
      ],
      "metadata": {
        "id": "LPvus1ZJHdPO"
      }
    },
    {
      "cell_type": "code",
      "source": [
        "#ข้อ1\n",
        "mat_b[:5,:2]"
      ],
      "metadata": {
        "colab": {
          "base_uri": "https://localhost:8080/"
        },
        "id": "M-ewy11HJHWz",
        "outputId": "9ec8ef4f-74b5-4024-920d-9f7e5fa93a57"
      },
      "execution_count": null,
      "outputs": [
        {
          "output_type": "execute_result",
          "data": {
            "text/plain": [
              "array([[-1, -1],\n",
              "       [-2, -2],\n",
              "       [-3, -3],\n",
              "       [-4, -4]])"
            ]
          },
          "metadata": {},
          "execution_count": 10
        }
      ]
    },
    {
      "cell_type": "code",
      "source": [
        "#ข้อ2\n",
        "mat_a[1:2,:4]"
      ],
      "metadata": {
        "colab": {
          "base_uri": "https://localhost:8080/"
        },
        "id": "fHV_dkiFJTSO",
        "outputId": "4a0fac9a-ce9f-4165-f106-b75103f0a8c4"
      },
      "execution_count": null,
      "outputs": [
        {
          "output_type": "execute_result",
          "data": {
            "text/plain": [
              "array([[1, 2, 3]])"
            ]
          },
          "metadata": {},
          "execution_count": 9
        }
      ]
    },
    {
      "cell_type": "code",
      "source": [
        "#ข้อ3\n",
        "mat_b[1:4,2:5:2]"
      ],
      "metadata": {
        "colab": {
          "base_uri": "https://localhost:8080/"
        },
        "id": "b2Drg5gcKJu8",
        "outputId": "9c535374-eb64-4543-815f-e15422735a5f"
      },
      "execution_count": null,
      "outputs": [
        {
          "output_type": "execute_result",
          "data": {
            "text/plain": [
              "array([[1, 3],\n",
              "       [9, 7],\n",
              "       [3, 9]])"
            ]
          },
          "metadata": {},
          "execution_count": 11
        }
      ]
    },
    {
      "cell_type": "markdown",
      "source": [
        "#Quiz3"
      ],
      "metadata": {
        "id": "Twla17tTgGZ7"
      }
    },
    {
      "cell_type": "markdown",
      "source": [
        "เขียน function แสดงความต่างของเวลาโดย input อยู่ในรูปแบบ 'XX:YY:ZZ - AA:BB:CC'\n",
        "\n",
        "และวนลูปแสดงผลของ input ต่อไปนี้\n",
        "\n",
        "'09:11:50 - 12:30:15'\n",
        "\n",
        "'13:41:07 - 20:00:18'\n",
        "\n",
        "'00:00:00 - 23:59:59'\n",
        "\n",
        "'18:04:11 - 00:00:00'\n",
        "\n",
        "'21:30:00 - 03:05:15'\n",
        "\n",
        "ตัวอย่าง input '00:00:00-01:00:00'\n",
        "\n",
        "output ช่วงระยะเวลาระหว่าง 00:00:00 ถึง 01:00:00 มีเวลาทั้งหมด 3,600 วินาที"
      ],
      "metadata": {
        "id": "JiAbi8ZxgJPH"
      }
    },
    {
      "cell_type": "code",
      "source": [
        "def print_time(alltime): #mytime = input\n",
        "    for i in (alltime):\n",
        "      start=alltime.split(\"-\") \n",
        "      time1=start[0] \n",
        "      sp_time1=time1.split(\":\") \n",
        "      time2=start[1] \n",
        "      sp_time2=time2.split(\":\") \n",
        "      x1 = (int(sp_time1[0])*3600)+(int(sp_time1[1])*60)+int(sp_time1[2])\n",
        "      x2 = (int(sp_time2[0])*3600)+(int(sp_time2[1])*60)+int(sp_time2[2])\n",
        "      time3 = x2-x1\n",
        "      time1day = 86400 \n",
        "    if time3 < 0 :\n",
        "       time4 = (time3 + time1day)\n",
        "       print(f'ช่วงระยะเวลาระหว่าง {time1}ถึง{time2} มีเวลาทั้งหมด {time4:,} วินาที')\n",
        "    else:\n",
        "      print(f'ช่วงระยะเวลาระหว่าง {time1}ถึง{time2} มีเวลาทั้งหมด {time3:,} วินาที')"
      ],
      "metadata": {
        "id": "jRqn4QFgohX_"
      },
      "execution_count": 1,
      "outputs": []
    },
    {
      "cell_type": "code",
      "source": [
        "print_time('09:11:50 - 12:30:15')"
      ],
      "metadata": {
        "id": "m5w3xwCUhqQz",
        "outputId": "3b60c5f1-f945-4d1b-ec1e-5e01c3839570",
        "colab": {
          "base_uri": "https://localhost:8080/"
        }
      },
      "execution_count": 3,
      "outputs": [
        {
          "output_type": "stream",
          "name": "stdout",
          "text": [
            "ช่วงระยะเวลาระหว่าง 09:11:50 ถึง 12:30:15 มีเวลาทั้งหมด 11,905 วินาที\n"
          ]
        }
      ]
    },
    {
      "cell_type": "code",
      "source": [
        "print_time('13:41:07 - 20:00:18')"
      ],
      "metadata": {
        "id": "BmDkpNFYiEGX",
        "outputId": "60b70a4a-34bf-46ae-bdb0-ba8f4b7d4a05",
        "colab": {
          "base_uri": "https://localhost:8080/"
        }
      },
      "execution_count": 4,
      "outputs": [
        {
          "output_type": "stream",
          "name": "stdout",
          "text": [
            "ช่วงระยะเวลาระหว่าง 13:41:07 ถึง 20:00:18 มีเวลาทั้งหมด 22,751 วินาที\n"
          ]
        }
      ]
    },
    {
      "cell_type": "code",
      "source": [
        "print_time('00:00:00 - 23:59:59')"
      ],
      "metadata": {
        "id": "cjYRuo53iIgU",
        "outputId": "61deb87c-e944-49a6-fca5-38fe9eabf4b6",
        "colab": {
          "base_uri": "https://localhost:8080/"
        }
      },
      "execution_count": 5,
      "outputs": [
        {
          "output_type": "stream",
          "name": "stdout",
          "text": [
            "ช่วงระยะเวลาระหว่าง 00:00:00 ถึง 23:59:59 มีเวลาทั้งหมด 86,399 วินาที\n"
          ]
        }
      ]
    },
    {
      "cell_type": "code",
      "source": [
        "print_time('18:04:11 - 00:00:00')"
      ],
      "metadata": {
        "id": "I-Vz7OlxiQRs",
        "outputId": "c26a51db-458a-4de2-887c-a0f98255d55f",
        "colab": {
          "base_uri": "https://localhost:8080/"
        }
      },
      "execution_count": 6,
      "outputs": [
        {
          "output_type": "stream",
          "name": "stdout",
          "text": [
            "ช่วงระยะเวลาระหว่าง 18:04:11 ถึง 00:00:00 มีเวลาทั้งหมด 21,349 วินาที\n"
          ]
        }
      ]
    },
    {
      "cell_type": "code",
      "source": [
        "print_time('21:30:00 - 03:05:15')"
      ],
      "metadata": {
        "id": "KaGSmHAGiaGh",
        "outputId": "e9fdfaaf-770a-47dd-80ab-e8490a95bba6",
        "colab": {
          "base_uri": "https://localhost:8080/"
        }
      },
      "execution_count": 7,
      "outputs": [
        {
          "output_type": "stream",
          "name": "stdout",
          "text": [
            "ช่วงระยะเวลาระหว่าง 21:30:00 ถึง 03:05:15 มีเวลาทั้งหมด 20,115 วินาที\n"
          ]
        }
      ]
    }
  ]
}