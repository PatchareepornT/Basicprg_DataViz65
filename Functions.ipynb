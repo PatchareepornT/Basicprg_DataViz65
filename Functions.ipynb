{
  "cells": [
    {
      "cell_type": "markdown",
      "metadata": {
        "id": "view-in-github",
        "colab_type": "text"
      },
      "source": [
        "<a href=\"https://colab.research.google.com/github/PatchareepornT/Basicprg_DataViz65/blob/main/Functions.ipynb\" target=\"_parent\"><img src=\"https://colab.research.google.com/assets/colab-badge.svg\" alt=\"Open In Colab\"/></a>"
      ]
    },
    {
      "cell_type": "markdown",
      "metadata": {
        "id": "Mg9i2X2kajC6"
      },
      "source": [
        "#Functions (f(x) = y)\n"
      ]
    },
    {
      "cell_type": "markdown",
      "metadata": {
        "id": "Go1bqHpMay2n"
      },
      "source": [
        "def function_name(input_x):\n",
        "    # do something with input_x to get output_y\n",
        "    return output_y\n",
        "f1(x)=x2+75\n",
        "\n"
      ]
    },
    {
      "cell_type": "code",
      "execution_count": null,
      "metadata": {
        "colab": {
          "base_uri": "https://localhost:8080/"
        },
        "id": "maRicsKLbBoP",
        "outputId": "97d7ed75-29d8-49fd-8015-04b217819a6a"
      },
      "outputs": [
        {
          "name": "stdout",
          "output_type": "stream",
          "text": [
            "done!\n"
          ]
        }
      ],
      "source": [
        "def function_f1(x):\n",
        "    a = x**2\n",
        "    y = a + 75\n",
        "    return y\n",
        "\n",
        "print('done!')"
      ]
    },
    {
      "cell_type": "code",
      "execution_count": null,
      "metadata": {
        "colab": {
          "base_uri": "https://localhost:8080/"
        },
        "id": "7Ji308XibKBz",
        "outputId": "b91eb6ee-b71e-4824-80f1-b3d1836a9a18"
      },
      "outputs": [
        {
          "data": {
            "text/plain": [
              "84"
            ]
          },
          "execution_count": 8,
          "metadata": {},
          "output_type": "execute_result"
        }
      ],
      "source": [
        "function_f1(3)"
      ]
    },
    {
      "cell_type": "markdown",
      "metadata": {
        "id": "j95r0Rw3bPCY"
      },
      "source": [
        "function มีส่วนสำคัญทั้งหมด 4 ส่วน\n",
        "\n",
        "1. บอก python ว่าเราจะเขียนฟังก์ชั่น ชื่ออะไร  def function_name(): (ขาดไม่ได้)\n",
        "2. กำหนดตัวแปรที่จะเป็น input Input (ขาดได้)\n",
        "3. ส่วนประมวลผล do_something with Input to get Output (ขาดไม่ได้)\n",
        "4. ส่วน output return Output(ขาดได้)"
      ]
    },
    {
      "cell_type": "markdown",
      "metadata": {
        "id": "_tBmC1AMbb94"
      },
      "source": [
        "#ตัวอย่าง function ที่มีส่วนประกอบครบ"
      ]
    },
    {
      "cell_type": "code",
      "source": [
        "def function_f1(x):\n",
        "    a = x**2\n",
        "    y = a + 75\n",
        "    return y"
      ],
      "metadata": {
        "id": "pR26ZQd9dLon"
      },
      "execution_count": null,
      "outputs": []
    },
    {
      "cell_type": "markdown",
      "source": [
        "#ตัวอย่าง function ที่ ไม่มี input"
      ],
      "metadata": {
        "id": "DtU8ATPsdPmt"
      }
    },
    {
      "cell_type": "code",
      "source": [
        "def pi_v():\n",
        "    y = 3.14159265359\n",
        "    return y"
      ],
      "metadata": {
        "id": "7zY91BIjdQvJ"
      },
      "execution_count": null,
      "outputs": []
    },
    {
      "cell_type": "code",
      "source": [
        "piv = pi_v()\n",
        "circle_area_r2 = piv*(2**2)\n",
        "print(circle_area_r2)"
      ],
      "metadata": {
        "colab": {
          "base_uri": "https://localhost:8080/"
        },
        "id": "QBiFBKPpdWac",
        "outputId": "035fea14-7e88-425e-c154-1723fa004b45"
      },
      "execution_count": null,
      "outputs": [
        {
          "output_type": "stream",
          "name": "stdout",
          "text": [
            "12.56637061436\n"
          ]
        }
      ]
    },
    {
      "cell_type": "markdown",
      "source": [
        "#Function ไม่มี process ไม่ได้"
      ],
      "metadata": {
        "id": "hMADsMaGdhSn"
      }
    },
    {
      "cell_type": "code",
      "source": [
        "def function_a():"
      ],
      "metadata": {
        "id": "HWvjOqX4dlL4"
      },
      "execution_count": null,
      "outputs": []
    },
    {
      "cell_type": "markdown",
      "source": [
        "#ตัวอย่าง Function ที่ไม่มี output"
      ],
      "metadata": {
        "id": "o6ujXn1tdogN"
      }
    },
    {
      "cell_type": "code",
      "source": [
        "def print_name_id(name,id):\n",
        "    print(f'ชื่อ {name} รหัสประจำตัว {id}')"
      ],
      "metadata": {
        "id": "AFMUrnOVdp4f"
      },
      "execution_count": null,
      "outputs": []
    },
    {
      "cell_type": "code",
      "source": [
        "print_name_id('พัชรีภรณ์','633021019-1')"
      ],
      "metadata": {
        "colab": {
          "base_uri": "https://localhost:8080/"
        },
        "id": "DkMexPCed08R",
        "outputId": "b7c0fa35-2012-4488-b38e-f931aa6d3e32"
      },
      "execution_count": null,
      "outputs": [
        {
          "output_type": "stream",
          "name": "stdout",
          "text": [
            "ชื่อ พัชรีภรณ์ รหัสประจำตัว 633021019-1\n"
          ]
        }
      ]
    },
    {
      "cell_type": "code",
      "source": [
        "a = print_name_id('พัชรีภรณ์','633021019-1')"
      ],
      "metadata": {
        "colab": {
          "base_uri": "https://localhost:8080/"
        },
        "id": "pZBlVSp-d77K",
        "outputId": "fe51d48a-08e4-4a4d-dd11-5e9b1b534adc"
      },
      "execution_count": null,
      "outputs": [
        {
          "output_type": "stream",
          "name": "stdout",
          "text": [
            "ชื่อ พัชรีภรณ์ รหัสประจำตัว 633021019-1\n"
          ]
        }
      ]
    },
    {
      "cell_type": "code",
      "source": [
        "print('พัชรีภรณ์')\n",
        "print('633021019-1')"
      ],
      "metadata": {
        "colab": {
          "base_uri": "https://localhost:8080/"
        },
        "id": "mNTdogOHeIkb",
        "outputId": "f5406d92-c30f-4ea9-fc37-12f3bf3f6fd6"
      },
      "execution_count": null,
      "outputs": [
        {
          "output_type": "stream",
          "name": "stdout",
          "text": [
            "พัชรีภรณ์\n",
            "633021019-1\n"
          ]
        }
      ]
    },
    {
      "cell_type": "code",
      "source": [
        "print('พัชรีภรณ์',end='->')\n",
        "print('633021019-1')"
      ],
      "metadata": {
        "colab": {
          "base_uri": "https://localhost:8080/"
        },
        "id": "PGAjoPUceOgJ",
        "outputId": "8ea09892-b042-4f80-88d3-93fb02da19b8"
      },
      "execution_count": null,
      "outputs": [
        {
          "output_type": "stream",
          "name": "stdout",
          "text": [
            "พัชรีภรณ์->633021019-1\n"
          ]
        }
      ]
    },
    {
      "cell_type": "code",
      "source": [
        "print('พัชรีภรณ์','633021019-1')"
      ],
      "metadata": {
        "colab": {
          "base_uri": "https://localhost:8080/"
        },
        "id": "tkHMF9JGec55",
        "outputId": "81ceb507-a88b-4d1c-cf8c-b2473de97c6a"
      },
      "execution_count": null,
      "outputs": [
        {
          "output_type": "stream",
          "name": "stdout",
          "text": [
            "พัชรีภรณ์ 633021019-1\n"
          ]
        }
      ]
    },
    {
      "cell_type": "code",
      "source": [
        "print('พัชรีภรณ์','633021019-1',sep=' & ')"
      ],
      "metadata": {
        "colab": {
          "base_uri": "https://localhost:8080/"
        },
        "id": "SFiMIl_gej7f",
        "outputId": "638a4498-3811-4c05-ecc1-a9c1f5bd8b7c"
      },
      "execution_count": null,
      "outputs": [
        {
          "output_type": "stream",
          "name": "stdout",
          "text": [
            "พัชรีภรณ์ & 633021019-1\n"
          ]
        }
      ]
    },
    {
      "cell_type": "markdown",
      "source": [
        "#input ของ function แบ่งเป็น 2 ชนิด (จำเป็นต้องใส่ กับ ไม่จำเป็นต้องใส่)"
      ],
      "metadata": {
        "id": "2kJ1ibk4evEd"
      }
    },
    {
      "cell_type": "markdown",
      "source": [
        "ตัวอย่าง function print_grade() มี input 3 ตัว จำเป็นต้องใส่ 2 ตัว คือ name กับ id และไม่จำเป็นต้องใส่ 1 ตัว คือเกรด ซึ่งมีค่า default เป็น F"
      ],
      "metadata": {
        "id": "FGMiXKk5extN"
      }
    },
    {
      "cell_type": "code",
      "source": [
        "def print_grade(name,id,grade = 'F'):\n",
        "    print(f'รหัสประจำตัว {id} ชื่อ {name}')\n",
        "    print(f'ได้เกรด {grade}')"
      ],
      "metadata": {
        "id": "I382FeGHe0bQ"
      },
      "execution_count": null,
      "outputs": []
    },
    {
      "cell_type": "code",
      "source": [
        "print_grade('นางสาวพัชรีภรณ์ ตากวัก','633021019-1')"
      ],
      "metadata": {
        "colab": {
          "base_uri": "https://localhost:8080/"
        },
        "id": "9WITLgaGe3fP",
        "outputId": "225ae199-d87c-4112-a504-7b8c786fb5ba"
      },
      "execution_count": null,
      "outputs": [
        {
          "output_type": "stream",
          "name": "stdout",
          "text": [
            "รหัสประจำตัว 633021019-1 ชื่อ นางสาวพัชรีภรณ์ ตากวัก\n",
            "ได้เกรด F\n"
          ]
        }
      ]
    },
    {
      "cell_type": "code",
      "source": [
        "print_grade('นางสาวพัชรีภรณ์ ตากวัก','633021019-1')"
      ],
      "metadata": {
        "colab": {
          "base_uri": "https://localhost:8080/"
        },
        "id": "9Kwv-vUMfC-R",
        "outputId": "08f2dbc4-a593-4b17-cd53-848a6907dd06"
      },
      "execution_count": null,
      "outputs": [
        {
          "output_type": "stream",
          "name": "stdout",
          "text": [
            "รหัสประจำตัว 633021019-1 ชื่อ นางสาวพัชรีภรณ์ ตากวัก\n",
            "ได้เกรด F\n"
          ]
        }
      ]
    },
    {
      "cell_type": "code",
      "source": [
        "print_grade(id='633021019-1',name='นางสาวพัชรีภรณ์ ตากวัก','633021019-1')"
      ],
      "metadata": {
        "colab": {
          "base_uri": "https://localhost:8080/",
          "height": 173
        },
        "id": "zBznDEAOfSuZ",
        "outputId": "f5860cdb-dd37-4f9e-b123-5e354dae7d3c"
      },
      "execution_count": null,
      "outputs": [
        {
          "output_type": "error",
          "ename": "SyntaxError",
          "evalue": "ignored",
          "traceback": [
            "\u001b[0;36m  File \u001b[0;32m\"<ipython-input-28-02ea20c38bb7>\"\u001b[0;36m, line \u001b[0;32m1\u001b[0m\n\u001b[0;31m    print_grade(id='633021019-1',name='นางสาวพัชรีภรณ์ ตากวัก','633021019-1')\u001b[0m\n\u001b[0m                                                                             \n^\u001b[0m\n\u001b[0;31mSyntaxError\u001b[0m\u001b[0;31m:\u001b[0m positional argument follows keyword argument\n"
          ]
        }
      ]
    },
    {
      "cell_type": "markdown",
      "metadata": {
        "id": "H4zXd3qdWWT8"
      },
      "source": [
        "#Looping (for)"
      ]
    },
    {
      "cell_type": "markdown",
      "metadata": {
        "id": "DVy7oVqdWcGp"
      },
      "source": [
        "for member in listEx:\n",
        "\n",
        "do_something()"
      ]
    },
    {
      "cell_type": "code",
      "execution_count": null,
      "metadata": {
        "colab": {
          "base_uri": "https://localhost:8080/"
        },
        "id": "_hDlffSLWk0a",
        "outputId": "6e697af7-5e85-4530-c334-6e235350bf9d"
      },
      "outputs": [
        {
          "name": "stdout",
          "output_type": "stream",
          "text": [
            "1\n",
            "2\n",
            "3\n",
            "4\n",
            "5\n",
            "6\n"
          ]
        }
      ],
      "source": [
        "for member in [1,2,3,4,5,6]:\n",
        "  print(member)"
      ]
    },
    {
      "cell_type": "code",
      "execution_count": null,
      "metadata": {
        "id": "3TsA6BqqW9Nr"
      },
      "outputs": [],
      "source": [
        "def print_name(name):\n",
        "  print(f'ฉันชื่อ {name}')"
      ]
    },
    {
      "cell_type": "code",
      "execution_count": null,
      "metadata": {
        "colab": {
          "base_uri": "https://localhost:8080/"
        },
        "id": "u2NNIfyeXUqg",
        "outputId": "09c8fa67-fc49-4c95-f22b-34d39cb6a72a"
      },
      "outputs": [
        {
          "name": "stdout",
          "output_type": "stream",
          "text": [
            "ฉันชื่อ พัชรีภรณ์\n",
            "ฉันชื่อ พิมพกานต์\n",
            "ฉันชื่อ ศศิวิมล\n"
          ]
        }
      ],
      "source": [
        "for name in ['พัชรีภรณ์','พิมพกานต์','ศศิวิมล'] :\n",
        "  N = name\n",
        "  print_name(N)"
      ]
    }
  ],
  "metadata": {
    "colab": {
      "name": "Untitled6.ipynb",
      "provenance": [],
      "authorship_tag": "ABX9TyPp/tnp1kpy7QIkwaVzwZ0u",
      "include_colab_link": true
    },
    "kernelspec": {
      "display_name": "Python 3",
      "name": "python3"
    },
    "language_info": {
      "name": "python"
    }
  },
  "nbformat": 4,
  "nbformat_minor": 0
}