{
  "nbformat": 4,
  "nbformat_minor": 0,
  "metadata": {
    "colab": {
      "name": "Introduction.ipynb",
      "provenance": [],
      "authorship_tag": "ABX9TyP1JIwiV4kvcG5ZQ6jX+sOo",
      "include_colab_link": true
    },
    "kernelspec": {
      "name": "python3",
      "display_name": "Python 3"
    },
    "language_info": {
      "name": "python"
    }
  },
  "cells": [
    {
      "cell_type": "markdown",
      "metadata": {
        "id": "view-in-github",
        "colab_type": "text"
      },
      "source": [
        "<a href=\"https://colab.research.google.com/github/PatchareepornT/Basicprg_DataViz65/blob/main/Introduction.ipynb\" target=\"_parent\"><img src=\"https://colab.research.google.com/assets/colab-badge.svg\" alt=\"Open In Colab\"/></a>"
      ]
    },
    {
      "cell_type": "markdown",
      "source": [
        "พัชรีภรณ์ ตากวัก (633021019-1)"
      ],
      "metadata": {
        "id": "qxlb1gG-GF08"
      }
    },
    {
      "cell_type": "markdown",
      "source": [
        "#Markdown\n"
      ],
      "metadata": {
        "id": "BysXLi7BGNyB"
      }
    },
    {
      "cell_type": "markdown",
      "source": [
        "#heading2"
      ],
      "metadata": {
        "id": "jGp2XRQNGqX0"
      }
    },
    {
      "cell_type": "code",
      "source": [
        "print('patchareeporn')"
      ],
      "metadata": {
        "colab": {
          "base_uri": "https://localhost:8080/"
        },
        "id": "bP87nKvnHH3f",
        "outputId": "d580acf8-dc3c-467f-c2ac-f17a2f6a8585"
      },
      "execution_count": 1,
      "outputs": [
        {
          "output_type": "stream",
          "name": "stdout",
          "text": [
            "patchareeporn\n"
          ]
        }
      ]
    }
  ]
}